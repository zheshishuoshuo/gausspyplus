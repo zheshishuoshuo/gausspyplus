{
 "cells": [
  {
   "cell_type": "code",
   "execution_count": 1,
   "metadata": {},
   "outputs": [],
   "source": [
    "from make_subcube import make_subcube\n",
    "\n",
    "def create_subcubes_with_make_subcube(path_to_original_cube, output_directory, original_shape, split_shape=(20, 20)):\n",
    "    \"\"\"\n",
    "    Create subcubes from an original FITS cube without splitting along the velocity axis.\n",
    "    \n",
    "    Parameters:\n",
    "    - path_to_original_cube: The file path to the original FITS cube.\n",
    "    - output_directory: Directory where subcubes will be saved.\n",
    "    - original_shape: A tuple of the shape of the original cube (z, y, x).\n",
    "    - split_shape: A tuple indicating how many times the cube should be split along the RA and Dec axes.\n",
    "    \"\"\"\n",
    "    z, y, x = original_shape\n",
    "    sy, sx = split_shape\n",
    "    y_step, x_step = y // sy, x // sx\n",
    "\n",
    "    # No loop for the velocity axis; it remains intact\n",
    "    for j in range(sy):\n",
    "        for k in range(sx):\n",
    "            y_start, y_end = j * y_step, (j + 1) * y_step if j < sy - 1 else y\n",
    "            x_start, x_end = k * x_step, (k + 1) * x_step if k < sx - 1 else x\n",
    "\n",
    "            # Build slice_params for each subcube\n",
    "            slice_params = [slice(None), slice(y_start, y_end), slice(x_start, x_end)]\n",
    "            \n",
    "            # Use make_subcube to extract and save each subcube\n",
    "            subcube_hdu = make_subcube(slice_params=slice_params, path_to_file=path_to_original_cube, \n",
    "                                       save=True, overwrite=True, \n",
    "                                       path_to_output_file=f\"{output_directory}/subcube_{j}_{k}.fits\",\n",
    "                                       get_hdu=True)\n",
    "\n",
    "            print(f\"Subcube saved: sub_cube_{j}_{k}.fits\")\n",
    "\n",
    "def merge_subcubes_into_original(path_to_subcubes, original_shape, output_file, split_shape=(4, 4)):\n",
    "    \"\"\"\n",
    "    Read processed subcubes and merge them into a single FITS cube without splitting along the velocity axis.\n",
    "    \n",
    "    Parameters:\n",
    "    - input_dir: Directory containing the processed subcubes.\n",
    "    - original_shape: The shape of the original FITS cube (z, y, x).\n",
    "    - output_file: Path to save the merged FITS cube.\n",
    "    - split_shape: The split size used when the original cube was divided, excluding the velocity axis.\n",
    "    \"\"\"\n",
    "    z, y, x = original_shape\n",
    "    sy, sx = split_shape\n",
    "    merged_cube = np.zeros(original_shape, dtype=np.float32)\n",
    "\n",
    "    for j in range(sy):\n",
    "        for k in range(sx):\n",
    "            # subcube_2_1_g+_fit_fin_sf-p1_decomp\n",
    "            subcube_path = f\"{path_to_subcubes}/subcube_{j}_{k}_g+_fit_fin_sf-p1_decomp.fits\"\n",
    "            with fits.open(subcube_path) as hdul:\n",
    "                subcube_data = hdul[0].data\n",
    "                # Calculate the starting indices for y and x axes\n",
    "                y_start, x_start = j * (y // sy), k * (x // sx)\n",
    "                y_end, x_end = y_start + subcube_data.shape[1], x_start + subcube_data.shape[2]\n",
    "                # No need to calculate for z axis since it's not split\n",
    "                # Place the subcube data into the correct position of the merged cube\n",
    "                merged_cube[:, y_start:y_end, x_start:x_end] = subcube_data\n",
    "\n",
    "    # Save the merged cube to a file\n",
    "    return merged_cube\n",
    "    # fits.writeto(output_file, merged_cube, overwrite=True)\n",
    "    # print(f\"Merged cube saved to: {output_file}\")\n",
    "\n"
   ]
  },
  {
   "cell_type": "code",
   "execution_count": null,
   "metadata": {},
   "outputs": [],
   "source": [
    "\n"
   ]
  },
  {
   "cell_type": "code",
   "execution_count": 2,
   "metadata": {},
   "outputs": [
    {
     "name": "stdout",
     "output_type": "stream",
     "text": [
      "\n",
      "making subcube with the slice parameters [slice(None, None, None), slice(0, 865, None), slice(0, 631, None)]...\n",
      "Subcube saved: sub_cube_0_0.fits\n",
      "\n",
      "making subcube with the slice parameters [slice(None, None, None), slice(0, 865, None), slice(631, 1263, None)]...\n",
      "Subcube saved: sub_cube_0_1.fits\n",
      "\n",
      "making subcube with the slice parameters [slice(None, None, None), slice(865, 1731, None), slice(0, 631, None)]...\n",
      "Subcube saved: sub_cube_1_0.fits\n",
      "\n",
      "making subcube with the slice parameters [slice(None, None, None), slice(865, 1731, None), slice(631, 1263, None)]...\n",
      "Subcube saved: sub_cube_1_1.fits\n"
     ]
    }
   ],
   "source": [
    "create_subcubes_with_make_subcube('~/GALCAR_cutout_repro.fits', './subcubes/',[270, 1731, 1263], split_shape=(2, 2)  )"
   ]
  },
  {
   "cell_type": "code",
   "execution_count": 7,
   "metadata": {},
   "outputs": [],
   "source": [
    "import numpy as np\n",
    "from astropy.io import fits\n",
    "merged_cube=merge_subcubes_into_original('FITS',[270, 1731, 1263] , 'output/')"
   ]
  },
  {
   "cell_type": "code",
   "execution_count": 8,
   "metadata": {},
   "outputs": [],
   "source": [
    "from astropy.io import fits\n",
    "\n",
    "# 打开FITS文件进行更新\n",
    "with fits.open('output/A_cutout_1.21_tofang_maskrfi_mask_complete.fits', mode='update') as hdul:\n",
    "    # hdul是一个HDU列表对象，每个HDU代表FITS文件中的一个数据部分\n",
    "\n",
    "    # 访问主HDU（Header/Data Unit），通常是列表的第一个元素\n",
    "    hdul[0].data=merged_cube\n"
   ]
  },
  {
   "cell_type": "code",
   "execution_count": null,
   "metadata": {},
   "outputs": [],
   "source": []
  }
 ],
 "metadata": {
  "kernelspec": {
   "display_name": "Python 3 (ipykernel)",
   "language": "python",
   "name": "python3"
  },
  "language_info": {
   "codemirror_mode": {
    "name": "ipython",
    "version": 3
   },
   "file_extension": ".py",
   "mimetype": "text/x-python",
   "name": "python",
   "nbconvert_exporter": "python",
   "pygments_lexer": "ipython3",
   "version": "3.10.11"
  }
 },
 "nbformat": 4,
 "nbformat_minor": 4
}
